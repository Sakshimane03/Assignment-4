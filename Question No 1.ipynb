{
 "cells": [
  {
   "cell_type": "markdown",
   "id": "32cf40c8",
   "metadata": {},
   "source": [
    "**Q.1 Write a Python program to create a lambda function that adds 25 to a given number passed in as an argument.**"
   ]
  },
  {
   "cell_type": "code",
   "execution_count": 6,
   "id": "bf74b60f",
   "metadata": {},
   "outputs": [
    {
     "data": {
      "text/plain": [
       "35"
      ]
     },
     "execution_count": 6,
     "metadata": {},
     "output_type": "execute_result"
    }
   ],
   "source": [
    "(lambda s: s+25)(10)\n"
   ]
  },
  {
   "cell_type": "code",
   "execution_count": null,
   "id": "4cce3c96",
   "metadata": {},
   "outputs": [],
   "source": []
  }
 ],
 "metadata": {
  "kernelspec": {
   "display_name": "Python 3 (ipykernel)",
   "language": "python",
   "name": "python3"
  },
  "language_info": {
   "codemirror_mode": {
    "name": "ipython",
    "version": 3
   },
   "file_extension": ".py",
   "mimetype": "text/x-python",
   "name": "python",
   "nbconvert_exporter": "python",
   "pygments_lexer": "ipython3",
   "version": "3.10.1"
  }
 },
 "nbformat": 4,
 "nbformat_minor": 5
}
