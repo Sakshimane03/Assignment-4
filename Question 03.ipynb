{
 "cells": [
  {
   "cell_type": "markdown",
   "id": "b435b6cf",
   "metadata": {},
   "source": [
    "**Q.3 Write a Python program to square the elements of a list using map() function.**"
   ]
  },
  {
   "cell_type": "code",
   "execution_count": 1,
   "id": "0f9e618e",
   "metadata": {},
   "outputs": [],
   "source": [
    "list_one = [4, 5, 2, 9]"
   ]
  },
  {
   "cell_type": "code",
   "execution_count": 4,
   "id": "02f9564d",
   "metadata": {},
   "outputs": [
    {
     "data": {
      "text/plain": [
       "<map at 0x21eefcae950>"
      ]
     },
     "execution_count": 4,
     "metadata": {},
     "output_type": "execute_result"
    }
   ],
   "source": [
    "map(lambda x: x**2, list_one)"
   ]
  },
  {
   "cell_type": "code",
   "execution_count": 6,
   "id": "b084f528",
   "metadata": {},
   "outputs": [
    {
     "data": {
      "text/plain": [
       "[16, 25, 4, 81]"
      ]
     },
     "execution_count": 6,
     "metadata": {},
     "output_type": "execute_result"
    }
   ],
   "source": [
    "list(map(lambda x: x**2, list_one))"
   ]
  },
  {
   "cell_type": "code",
   "execution_count": null,
   "id": "e839003e",
   "metadata": {},
   "outputs": [],
   "source": []
  }
 ],
 "metadata": {
  "kernelspec": {
   "display_name": "Python 3 (ipykernel)",
   "language": "python",
   "name": "python3"
  },
  "language_info": {
   "codemirror_mode": {
    "name": "ipython",
    "version": 3
   },
   "file_extension": ".py",
   "mimetype": "text/x-python",
   "name": "python",
   "nbconvert_exporter": "python",
   "pygments_lexer": "ipython3",
   "version": "3.10.1"
  }
 },
 "nbformat": 4,
 "nbformat_minor": 5
}
